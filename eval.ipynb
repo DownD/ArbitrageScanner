{
 "cells": [
  {
   "cell_type": "code",
   "execution_count": 43,
   "source": [
    "import pandas as pd\r\n",
    "\r\n",
    "betclic = pd.read_csv(\"BetClic.csv\").set_index('matchRadarID')\r\n",
    "betpt = pd.read_csv(\"BetPT.csv\").set_index('matchRadarID')\r\n",
    "betano = pd.read_csv(\"Betano.csv\").set_index('matchRadarID')\r\n",
    "\r\n"
   ],
   "outputs": [],
   "metadata": {}
  },
  {
   "cell_type": "code",
   "execution_count": 27,
   "source": [
    "betclic_odds = betclic.add_suffix('_betclic')\r\n",
    "betpt_odds = betpt.add_suffix('_betpt')\r\n",
    "betano_odds = betano.add_suffix('_betano')"
   ],
   "outputs": [],
   "metadata": {}
  },
  {
   "cell_type": "code",
   "execution_count": 28,
   "source": [
    "all_odds = betano_odds.join(betclic_odds,how=\"inner\")"
   ],
   "outputs": [],
   "metadata": {}
  },
  {
   "cell_type": "code",
   "execution_count": 29,
   "source": [
    "merge_df = betclic_odds.join(betano_odds,how=\"inner\")\r\n",
    "filter_col = [col for col in merge_df if col.startswith('optionOdd')]\r\n",
    "filter_col.append(\"matchName_betano\")\r\n",
    "filter_col.append(\"matchType_betano\")\r\n",
    "filter_col.append(\"betType_betano\")\r\n",
    "odds_df = merge_df[filter_col]\r\n",
    "odds_clean = odds_df.dropna()"
   ],
   "outputs": [],
   "metadata": {}
  },
  {
   "cell_type": "code",
   "execution_count": 30,
   "source": [
    "odds_clean['arbitrage_percentage'] = (1/odds_clean[['optionOdd1_betano','optionOdd1_betclic']].max(axis=1)) + (1/odds_clean[['optionOdd2_betano','optionOdd2_betclic']].max(axis=1)) + (1/odds_clean[['optionOdd3_betano','optionOdd3_betclic']].max(axis=1))"
   ],
   "outputs": [],
   "metadata": {}
  },
  {
   "cell_type": "code",
   "execution_count": 35,
   "source": [
    "odds_clean[odds_clean['arbitrage_percentage']>1]"
   ],
   "outputs": [
    {
     "output_type": "execute_result",
     "data": {
      "text/html": [
       "<div>\n",
       "<style scoped>\n",
       "    .dataframe tbody tr th:only-of-type {\n",
       "        vertical-align: middle;\n",
       "    }\n",
       "\n",
       "    .dataframe tbody tr th {\n",
       "        vertical-align: top;\n",
       "    }\n",
       "\n",
       "    .dataframe thead th {\n",
       "        text-align: right;\n",
       "    }\n",
       "</style>\n",
       "<table border=\"1\" class=\"dataframe\">\n",
       "  <thead>\n",
       "    <tr style=\"text-align: right;\">\n",
       "      <th></th>\n",
       "      <th>optionOdd1_betclic</th>\n",
       "      <th>optionOdd2_betclic</th>\n",
       "      <th>optionOdd3_betclic</th>\n",
       "      <th>optionOdd1_betano</th>\n",
       "      <th>optionOdd2_betano</th>\n",
       "      <th>optionOdd3_betano</th>\n",
       "      <th>matchName_betano</th>\n",
       "      <th>matchType_betano</th>\n",
       "      <th>betType_betano</th>\n",
       "      <th>arbitrage_percentage</th>\n",
       "    </tr>\n",
       "    <tr>\n",
       "      <th>matchRadarID</th>\n",
       "      <th></th>\n",
       "      <th></th>\n",
       "      <th></th>\n",
       "      <th></th>\n",
       "      <th></th>\n",
       "      <th></th>\n",
       "      <th></th>\n",
       "      <th></th>\n",
       "      <th></th>\n",
       "      <th></th>\n",
       "    </tr>\n",
       "  </thead>\n",
       "  <tbody>\n",
       "    <tr>\n",
       "      <th>29278190</th>\n",
       "      <td>2.21</td>\n",
       "      <td>2.55</td>\n",
       "      <td>2.99</td>\n",
       "      <td>2.25</td>\n",
       "      <td>2.62</td>\n",
       "      <td>2.85</td>\n",
       "      <td>Deportivo Moron - Brown de Adrogue</td>\n",
       "      <td>FUTEBOL</td>\n",
       "      <td>1X2 - FINAL_TIME</td>\n",
       "      <td>1.160572</td>\n",
       "    </tr>\n",
       "    <tr>\n",
       "      <th>28224892</th>\n",
       "      <td>2.37</td>\n",
       "      <td>2.79</td>\n",
       "      <td>2.95</td>\n",
       "      <td>2.27</td>\n",
       "      <td>2.70</td>\n",
       "      <td>2.70</td>\n",
       "      <td>Atletico Huila - Deportivo La Equidad</td>\n",
       "      <td>FUTEBOL</td>\n",
       "      <td>1X2 - FINAL_TIME</td>\n",
       "      <td>1.119347</td>\n",
       "    </tr>\n",
       "    <tr>\n",
       "      <th>28086280</th>\n",
       "      <td>1.46</td>\n",
       "      <td>3.92</td>\n",
       "      <td>4.55</td>\n",
       "      <td>1.47</td>\n",
       "      <td>3.70</td>\n",
       "      <td>3.95</td>\n",
       "      <td>Guadalajara Chivas (F) - CF Pachuca (F)</td>\n",
       "      <td>FUTEBOL</td>\n",
       "      <td>1X2 - FINAL_TIME</td>\n",
       "      <td>1.155154</td>\n",
       "    </tr>\n",
       "    <tr>\n",
       "      <th>29476878</th>\n",
       "      <td>5.90</td>\n",
       "      <td>5.00</td>\n",
       "      <td>1.26</td>\n",
       "      <td>5.50</td>\n",
       "      <td>4.40</td>\n",
       "      <td>1.28</td>\n",
       "      <td>Gold Coast United - Peninsula Power</td>\n",
       "      <td>FUTEBOL</td>\n",
       "      <td>1X2 - FINAL_TIME</td>\n",
       "      <td>1.150742</td>\n",
       "    </tr>\n",
       "    <tr>\n",
       "      <th>29325286</th>\n",
       "      <td>3.20</td>\n",
       "      <td>3.07</td>\n",
       "      <td>1.92</td>\n",
       "      <td>3.10</td>\n",
       "      <td>3.05</td>\n",
       "      <td>1.87</td>\n",
       "      <td>Elazigspor - Arnavutköy Belediye Spor</td>\n",
       "      <td>FUTEBOL</td>\n",
       "      <td>1X2 - FINAL_TIME</td>\n",
       "      <td>1.159066</td>\n",
       "    </tr>\n",
       "    <tr>\n",
       "      <th>...</th>\n",
       "      <td>...</td>\n",
       "      <td>...</td>\n",
       "      <td>...</td>\n",
       "      <td>...</td>\n",
       "      <td>...</td>\n",
       "      <td>...</td>\n",
       "      <td>...</td>\n",
       "      <td>...</td>\n",
       "      <td>...</td>\n",
       "      <td>...</td>\n",
       "    </tr>\n",
       "    <tr>\n",
       "      <th>26633850</th>\n",
       "      <td>2.45</td>\n",
       "      <td>2.43</td>\n",
       "      <td>2.77</td>\n",
       "      <td>2.37</td>\n",
       "      <td>2.55</td>\n",
       "      <td>2.65</td>\n",
       "      <td>Cumbaya - Chacaritas FC</td>\n",
       "      <td>FUTEBOL</td>\n",
       "      <td>1X2 - FINAL_TIME</td>\n",
       "      <td>1.161331</td>\n",
       "    </tr>\n",
       "    <tr>\n",
       "      <th>28624052</th>\n",
       "      <td>2.71</td>\n",
       "      <td>3.13</td>\n",
       "      <td>2.41</td>\n",
       "      <td>2.55</td>\n",
       "      <td>2.92</td>\n",
       "      <td>2.35</td>\n",
       "      <td>O'Higgins - Huachipato</td>\n",
       "      <td>FUTEBOL</td>\n",
       "      <td>1X2 - FINAL_TIME</td>\n",
       "      <td>1.103430</td>\n",
       "    </tr>\n",
       "    <tr>\n",
       "      <th>27975800</th>\n",
       "      <td>2.08</td>\n",
       "      <td>3.12</td>\n",
       "      <td>3.33</td>\n",
       "      <td>2.05</td>\n",
       "      <td>2.92</td>\n",
       "      <td>3.05</td>\n",
       "      <td>Mazatlán FC - FC Juárez</td>\n",
       "      <td>FUTEBOL</td>\n",
       "      <td>1X2 - FINAL_TIME</td>\n",
       "      <td>1.101582</td>\n",
       "    </tr>\n",
       "    <tr>\n",
       "      <th>28085856</th>\n",
       "      <td>2.55</td>\n",
       "      <td>2.75</td>\n",
       "      <td>2.55</td>\n",
       "      <td>2.35</td>\n",
       "      <td>2.72</td>\n",
       "      <td>2.32</td>\n",
       "      <td>Correcaminos Uat - Club Celaya</td>\n",
       "      <td>FUTEBOL</td>\n",
       "      <td>1X2 - FINAL_TIME</td>\n",
       "      <td>1.147950</td>\n",
       "    </tr>\n",
       "    <tr>\n",
       "      <th>29278198</th>\n",
       "      <td>2.46</td>\n",
       "      <td>2.36</td>\n",
       "      <td>2.86</td>\n",
       "      <td>2.37</td>\n",
       "      <td>2.57</td>\n",
       "      <td>2.70</td>\n",
       "      <td>CA All Boys - Defensores De Belgrano</td>\n",
       "      <td>FUTEBOL</td>\n",
       "      <td>1X2 - FINAL_TIME</td>\n",
       "      <td>1.145259</td>\n",
       "    </tr>\n",
       "  </tbody>\n",
       "</table>\n",
       "<p>76 rows × 10 columns</p>\n",
       "</div>"
      ],
      "text/plain": [
       "              optionOdd1_betclic  optionOdd2_betclic  optionOdd3_betclic  \\\n",
       "matchRadarID                                                               \n",
       "29278190                    2.21                2.55                2.99   \n",
       "28224892                    2.37                2.79                2.95   \n",
       "28086280                    1.46                3.92                4.55   \n",
       "29476878                    5.90                5.00                1.26   \n",
       "29325286                    3.20                3.07                1.92   \n",
       "...                          ...                 ...                 ...   \n",
       "26633850                    2.45                2.43                2.77   \n",
       "28624052                    2.71                3.13                2.41   \n",
       "27975800                    2.08                3.12                3.33   \n",
       "28085856                    2.55                2.75                2.55   \n",
       "29278198                    2.46                2.36                2.86   \n",
       "\n",
       "              optionOdd1_betano  optionOdd2_betano  optionOdd3_betano  \\\n",
       "matchRadarID                                                            \n",
       "29278190                   2.25               2.62               2.85   \n",
       "28224892                   2.27               2.70               2.70   \n",
       "28086280                   1.47               3.70               3.95   \n",
       "29476878                   5.50               4.40               1.28   \n",
       "29325286                   3.10               3.05               1.87   \n",
       "...                         ...                ...                ...   \n",
       "26633850                   2.37               2.55               2.65   \n",
       "28624052                   2.55               2.92               2.35   \n",
       "27975800                   2.05               2.92               3.05   \n",
       "28085856                   2.35               2.72               2.32   \n",
       "29278198                   2.37               2.57               2.70   \n",
       "\n",
       "                                     matchName_betano matchType_betano  \\\n",
       "matchRadarID                                                             \n",
       "29278190           Deportivo Moron - Brown de Adrogue          FUTEBOL   \n",
       "28224892        Atletico Huila - Deportivo La Equidad          FUTEBOL   \n",
       "28086280      Guadalajara Chivas (F) - CF Pachuca (F)          FUTEBOL   \n",
       "29476878          Gold Coast United - Peninsula Power          FUTEBOL   \n",
       "29325286        Elazigspor - Arnavutköy Belediye Spor          FUTEBOL   \n",
       "...                                               ...              ...   \n",
       "26633850                      Cumbaya - Chacaritas FC          FUTEBOL   \n",
       "28624052                       O'Higgins - Huachipato          FUTEBOL   \n",
       "27975800                      Mazatlán FC - FC Juárez          FUTEBOL   \n",
       "28085856               Correcaminos Uat - Club Celaya          FUTEBOL   \n",
       "29278198         CA All Boys - Defensores De Belgrano          FUTEBOL   \n",
       "\n",
       "                betType_betano  arbitrage_percentage  \n",
       "matchRadarID                                          \n",
       "29278190      1X2 - FINAL_TIME              1.160572  \n",
       "28224892      1X2 - FINAL_TIME              1.119347  \n",
       "28086280      1X2 - FINAL_TIME              1.155154  \n",
       "29476878      1X2 - FINAL_TIME              1.150742  \n",
       "29325286      1X2 - FINAL_TIME              1.159066  \n",
       "...                        ...                   ...  \n",
       "26633850      1X2 - FINAL_TIME              1.161331  \n",
       "28624052      1X2 - FINAL_TIME              1.103430  \n",
       "27975800      1X2 - FINAL_TIME              1.101582  \n",
       "28085856      1X2 - FINAL_TIME              1.147950  \n",
       "29278198      1X2 - FINAL_TIME              1.145259  \n",
       "\n",
       "[76 rows x 10 columns]"
      ]
     },
     "metadata": {},
     "execution_count": 35
    }
   ],
   "metadata": {}
  },
  {
   "cell_type": "code",
   "execution_count": 36,
   "source": [
    "odds_clean['matchType_betano'].unique()"
   ],
   "outputs": [
    {
     "output_type": "execute_result",
     "data": {
      "text/plain": [
       "array(['FUTEBOL'], dtype=object)"
      ]
     },
     "metadata": {},
     "execution_count": 36
    }
   ],
   "metadata": {}
  },
  {
   "cell_type": "code",
   "execution_count": 45,
   "source": [
    "betano['matchType'].unique()"
   ],
   "outputs": [
    {
     "output_type": "execute_result",
     "data": {
      "text/plain": [
       "array(['FUTEBOL', 'TENIS', 'BASTQUETEBOL', 'VOLEIBOL', 'ANDEBOL',\n",
       "       'HOQUEI NO GELO', 'BASEBOL'], dtype=object)"
      ]
     },
     "metadata": {},
     "execution_count": 45
    }
   ],
   "metadata": {}
  },
  {
   "cell_type": "code",
   "execution_count": 46,
   "source": [
    "betclic.shape"
   ],
   "outputs": [
    {
     "output_type": "execute_result",
     "data": {
      "text/plain": [
       "(496, 11)"
      ]
     },
     "metadata": {},
     "execution_count": 46
    }
   ],
   "metadata": {}
  },
  {
   "cell_type": "code",
   "execution_count": null,
   "source": [],
   "outputs": [],
   "metadata": {}
  }
 ],
 "metadata": {
  "orig_nbformat": 4,
  "language_info": {
   "name": "python",
   "version": "3.7.9",
   "mimetype": "text/x-python",
   "codemirror_mode": {
    "name": "ipython",
    "version": 3
   },
   "pygments_lexer": "ipython3",
   "nbconvert_exporter": "python",
   "file_extension": ".py"
  },
  "kernelspec": {
   "name": "python3",
   "display_name": "Python 3.7.9 64-bit"
  },
  "interpreter": {
   "hash": "5e19f5f9047d686051a4ffff3c57b5ca676552393775b324a4200bbd1a7317fa"
  }
 },
 "nbformat": 4,
 "nbformat_minor": 2
}